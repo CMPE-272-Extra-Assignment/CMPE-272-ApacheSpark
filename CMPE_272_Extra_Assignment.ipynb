{
 "cells": [
  {
   "cell_type": "code",
   "execution_count": 35,
   "metadata": {
    "collapsed": true
   },
   "outputs": [],
   "source": [
    "from pyspark.sql import SQLContext\n",
    "from pyspark.sql.types import *\n",
    "sqlContext = SQLContext(sc)"
   ]
  },
  {
   "cell_type": "code",
   "execution_count": 36,
   "metadata": {
    "collapsed": false
   },
   "outputs": [
    {
     "data": {
      "text/plain": [
       "28"
      ]
     },
     "execution_count": 36,
     "metadata": {},
     "output_type": "execute_result"
    }
   ],
   "source": [
    "dataFile = sqlContext.read.json(\"swift://notebooks.spark/AmazonReviews_new.json\")\n",
    "dataFile.count()"
   ]
  },
  {
   "cell_type": "code",
   "execution_count": 37,
   "metadata": {
    "collapsed": false
   },
   "outputs": [
    {
     "name": "stdout",
     "output_type": "stream",
     "text": [
      "+----------+----------+-------+--------------------+-----------+----------+------------+--------------------+--------------+\n",
      "|      asin|   helpful|overall|          reviewText| reviewTime|reviewerID|reviewerName|             summary|unixReviewTime|\n",
      "+----------+----------+-------+--------------------+-----------+----------+------------+--------------------+--------------+\n",
      "|0000013714|List(1, 3)|    1.0|Worst!! Will neve...|09 13, 2015|         1| J. McDonald|  Hell Highway Hymns|    1252800000|\n",
      "|0000013714|List(1, 3)|    0.5|Not use it again ...|10 13, 2015|         1| J. McDonald|  Hell Highway Hymns|    1352800000|\n",
      "|0000013714|List(1, 3)|    1.0|             Worst!!|11 13, 2015|         1| J. McDonald|  Hell Highway Hymns|    1452800000|\n",
      "|0000013714|List(1, 3)|    0.5|Worst product eve...|12 13, 2015|         1| J. McDonald|  Hell Highway Hymns|    1552800000|\n",
      "|0000013714|List(1, 3)|    1.5|          Really Bad|09 13, 2015|         2|   J. Bakshi|     Hell Using This|    1252800000|\n",
      "|0000013714|List(1, 3)|    1.5|                 Bad|09 14, 2015|         2|   J. Bakshi|     Hell Using This|    1252800000|\n",
      "|0000013715|List(1, 3)|    1.5|          Really Bad|09 13, 2015|         2|   J. Bakshi|     Hell Using This|    1252800000|\n",
      "|0000013715|List(1, 3)|    1.5|                 Bad|09 14, 2015|         2|   J. Bakshi|     Hell Using This|    1252800000|\n",
      "|0000013716|List(1, 3)|    1.5|          Really Bad|09 14, 2015|         2|   J. Bakshi|     Hell Using This|    1252800000|\n",
      "|0000013716|List(1, 3)|    1.5|                 Bad|09 14, 2015|         2|   J. Bakshi|     Hell Using This|    1252800000|\n",
      "|0000013714|List(3, 3)|    5.0|                good|09 13, 2015|         3| N. McDonald|Heavenly Highway ...|    1252800000|\n",
      "|0000013714|List(3, 3)|    5.0|                good|09 13, 2015|         4|   K. Mcwell|Heavenly Highway ...|    1252800000|\n",
      "|0000013714|List(3, 3)|    5.0|           very good|09 13, 2015|         5|  J. Asthana|Heavenly Highway ...|    1252800000|\n",
      "|0000013714|List(3, 3)|    5.0|                good|09 13, 2015|         6|  K. Asthana|Heavenly Highway ...|    1252800000|\n",
      "|0000013714|List(3, 3)|    5.0|           very good|09 13, 2015|         7|    J. Goyal|Heavenly Highway ...|    1252800000|\n",
      "|0000013714|List(3, 3)|    5.0|                good|09 13, 2015|         8|     J. Bell|Heavenly Highway ...|    1252800000|\n",
      "|0000013714|List(3, 3)|    5.0|                good|09 13, 2015|         9|  K. Thomson|Heavenly Highway ...|    1252800000|\n",
      "|0000013714|List(3, 3)|    5.0|           very good|09 13, 2015|        10|    M. Harry|Heavenly Highway ...|    1252800000|\n",
      "|0000013714|List(2, 3)|    5.0|           excellent|09 13, 2015|        11|     G. Dick|Heavenly Highway ...|    1252800000|\n",
      "|0000013714|List(3, 3)|    5.0|                good|09 13, 2015|        12|  V. Johnson|Heavenly Highway ...|    1252800000|\n",
      "+----------+----------+-------+--------------------+-----------+----------+------------+--------------------+--------------+\n",
      "\n"
     ]
    }
   ],
   "source": [
    "dataFile.show()"
   ]
  },
  {
   "cell_type": "code",
   "execution_count": 38,
   "metadata": {
    "collapsed": false
   },
   "outputs": [
    {
     "name": "stdout",
     "output_type": "stream",
     "text": [
      "root\n",
      " |-- asin: string (nullable = true)\n",
      " |-- helpful: array (nullable = true)\n",
      " |    |-- element: long (containsNull = true)\n",
      " |-- overall: double (nullable = true)\n",
      " |-- reviewText: string (nullable = true)\n",
      " |-- reviewTime: string (nullable = true)\n",
      " |-- reviewerID: string (nullable = true)\n",
      " |-- reviewerName: string (nullable = true)\n",
      " |-- summary: string (nullable = true)\n",
      " |-- unixReviewTime: long (nullable = true)\n",
      "\n"
     ]
    }
   ],
   "source": [
    "dataFile.printSchema()"
   ]
  },
  {
   "cell_type": "code",
   "execution_count": 49,
   "metadata": {
    "collapsed": true
   },
   "outputs": [],
   "source": [
    "dataFile\n",
    "dataFile.registerTempTable(\"User_Reviews\")"
   ]
  },
  {
   "cell_type": "code",
   "execution_count": 50,
   "metadata": {
    "collapsed": false
   },
   "outputs": [
    {
     "name": "stdout",
     "output_type": "stream",
     "text": [
      "+----------+------------+--------------------+-------+-----------+\n",
      "|reviewerID|reviewerName|          reviewText|overall| reviewTime|\n",
      "+----------+------------+--------------------+-------+-----------+\n",
      "|         1| J. McDonald|Worst!! Will neve...|    1.0|09 13, 2015|\n",
      "|         1| J. McDonald|Not use it again ...|    0.5|10 13, 2015|\n",
      "|         1| J. McDonald|             Worst!!|    1.0|11 13, 2015|\n",
      "|         1| J. McDonald|Worst product eve...|    0.5|12 13, 2015|\n",
      "|         2|   J. Bakshi|          Really Bad|    1.5|09 13, 2015|\n",
      "|         2|   J. Bakshi|                 Bad|    1.5|09 14, 2015|\n",
      "|         2|   J. Bakshi|          Really Bad|    1.5|09 13, 2015|\n",
      "|         2|   J. Bakshi|                 Bad|    1.5|09 14, 2015|\n",
      "|         2|   J. Bakshi|          Really Bad|    1.5|09 14, 2015|\n",
      "|         2|   J. Bakshi|                 Bad|    1.5|09 14, 2015|\n",
      "+----------+------------+--------------------+-------+-----------+\n",
      "\n"
     ]
    }
   ],
   "source": [
    "df = sqlContext.sql(\"select reviewerID, reviewerName, reviewText, overall, reviewTime from User_Reviews where overall <=1.5\")\n",
    "df.show()"
   ]
  },
  {
   "cell_type": "code",
   "execution_count": 51,
   "metadata": {
    "collapsed": false
   },
   "outputs": [
    {
     "name": "stdout",
     "output_type": "stream",
     "text": [
      "+----------+\n",
      "|reviewerID|\n",
      "+----------+\n",
      "|         1|\n",
      "|         1|\n",
      "|         1|\n",
      "|         1|\n",
      "|         2|\n",
      "|         2|\n",
      "|         2|\n",
      "|         2|\n",
      "|         2|\n",
      "|         2|\n",
      "+----------+\n",
      "\n"
     ]
    }
   ],
   "source": [
    "df = sqlContext.sql(\"select reviewerID from User_Reviews where overall <=1.5\")\n",
    "df.show()"
   ]
  },
  {
   "cell_type": "code",
   "execution_count": 52,
   "metadata": {
    "collapsed": false
   },
   "outputs": [
    {
     "name": "stdout",
     "output_type": "stream",
     "text": [
      "+----------+----------+-------+\n",
      "|reviewerID| productid|overall|\n",
      "+----------+----------+-------+\n",
      "|         1|0000013714|    1.0|\n",
      "|         1|0000013714|    0.5|\n",
      "|         2|0000013714|    1.5|\n",
      "|         2|0000013715|    1.5|\n",
      "|         2|0000013716|    1.5|\n",
      "+----------+----------+-------+\n",
      "\n"
     ]
    }
   ],
   "source": [
    "df = sqlContext.sql(\"select reviewerID, asin as productid, overall from  User_Reviews where overall <=1.5 group by reviewerID, asin , overall\")\n",
    "df.show()"
   ]
  },
  {
   "cell_type": "code",
   "execution_count": 54,
   "metadata": {
    "collapsed": false
   },
   "outputs": [
    {
     "name": "stdout",
     "output_type": "stream",
     "text": [
      "+------------+--------------------+\n",
      "|totalpersons|          reviewText|\n",
      "+------------+--------------------+\n",
      "|           2|           excellent|\n",
      "|           1|Not use it again ...|\n",
      "|           3|                 Bad|\n",
      "|           1|Worst!! Will neve...|\n",
      "|           3|          Really Bad|\n",
      "|           1|Worst product eve...|\n",
      "|           2|                null|\n",
      "|           9|                good|\n",
      "|           1|             Worst!!|\n",
      "|           5|           very good|\n",
      "+------------+--------------------+\n",
      "\n"
     ]
    }
   ],
   "source": [
    "df = sqlContext.sql(\"select count(*) as totalpersons , reviewText from User_Reviews group by reviewText\")\n",
    "df.show()"
   ]
  },
  {
   "cell_type": "code",
   "execution_count": 55,
   "metadata": {
    "collapsed": true
   },
   "outputs": [],
   "source": [
    "import pandas as pd\n",
    "import numpy as np\n",
    "import matplotlib.pyplot as plt\n",
    "import urllib2\n",
    "pd.__version__\n",
    "%matplotlib inline\n",
    "\n",
    "pd.pdf_name=df.toPandas()"
   ]
  },
  {
   "cell_type": "code",
   "execution_count": 56,
   "metadata": {
    "collapsed": false
   },
   "outputs": [
    {
     "data": {
      "text/plain": [
       "<matplotlib.text.Text at 0x7eff51cac310>"
      ]
     },
     "execution_count": 56,
     "metadata": {},
     "output_type": "execute_result"
    },
    {
     "data": {
      "image/png": "[encoded data removed]",
      "text/plain": [
       "<matplotlib.figure.Figure at 0x7eff51ae65d0>"
      ]
     },
     "metadata": {},
     "output_type": "display_data"
    }
   ],
   "source": [
    "name_list=pd.pdf_name['reviewText'].head(15).tolist()\n",
    "name_amounts=pd.pdf_name['totalpersons'].head(15).tolist()\n",
    "data_names = {'Product Review Data':pd.Series(name_amounts, index=name_list)}\n",
    "df_name_plot = pd.DataFrame(data_names)\n",
    "ax = df_name_plot.plot(kind='bar')\n",
    "ax.set_xlabel(\"Reviews\")\n",
    "ax.set_ylabel(\"No of Persons\")"
   ]
  },
  {
   "cell_type": "code",
   "execution_count": null,
   "metadata": {
    "collapsed": true
   },
   "outputs": [],
   "source": []
  }
 ],
 "metadata": {
  "kernelspec": {
   "display_name": "Python 2",
   "language": "python",
   "name": "python2"
  },
  "language_info": {
   "codemirror_mode": {
    "name": "ipython",
    "version": 2
   },
   "file_extension": ".py",
   "mimetype": "text/x-python",
   "name": "python",
   "nbconvert_exporter": "python",
   "pygments_lexer": "ipython2",
   "version": "2.7.9"
  }
 },
 "nbformat": 4,
 "nbformat_minor": 0
}
